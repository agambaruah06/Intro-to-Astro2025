{
 "cells": [
  {
   "attachments": {
    "numpy.png": {
     "image/png": "[encoded data removed]"
    }
   },
   "cell_type": "markdown",
   "metadata": {},
   "source": [
    "# Python Libraries 1\n",
    "# Numpy ![numpy.png](attachment:numpy.png)"
   ]
  },
  {
   "cell_type": "code",
   "execution_count": 1,
   "metadata": {},
   "outputs": [],
   "source": [
    "import numpy"
   ]
  },
  {
   "cell_type": "code",
   "execution_count": 2,
   "metadata": {},
   "outputs": [],
   "source": [
    "l=[1,2,3]\n",
    "arr=numpy.array(l)"
   ]
  },
  {
   "cell_type": "code",
   "execution_count": 3,
   "metadata": {},
   "outputs": [
    {
     "data": {
      "text/plain": [
       "array([1, 2, 3])"
      ]
     },
     "execution_count": 3,
     "metadata": {},
     "output_type": "execute_result"
    }
   ],
   "source": [
    "arr"
   ]
  },
  {
   "cell_type": "code",
   "execution_count": 4,
   "metadata": {},
   "outputs": [],
   "source": [
    "import numpy as np"
   ]
  },
  {
   "cell_type": "code",
   "execution_count": 5,
   "metadata": {},
   "outputs": [
    {
     "data": {
      "text/plain": [
       "array([1, 2, 3])"
      ]
     },
     "execution_count": 5,
     "metadata": {},
     "output_type": "execute_result"
    }
   ],
   "source": [
    "np.array(l)"
   ]
  },
  {
   "cell_type": "code",
   "execution_count": 6,
   "metadata": {},
   "outputs": [],
   "source": [
    "arr_1=np.array([1,2,3])"
   ]
  },
  {
   "cell_type": "code",
   "execution_count": 7,
   "metadata": {},
   "outputs": [
    {
     "data": {
      "text/plain": [
       "array([1, 2, 3])"
      ]
     },
     "execution_count": 7,
     "metadata": {},
     "output_type": "execute_result"
    }
   ],
   "source": [
    "arr_1"
   ]
  },
  {
   "cell_type": "code",
   "execution_count": 8,
   "metadata": {},
   "outputs": [
    {
     "data": {
      "text/plain": [
       "array([2, 3, 4])"
      ]
     },
     "execution_count": 8,
     "metadata": {},
     "output_type": "execute_result"
    }
   ],
   "source": [
    "arr_1+1"
   ]
  },
  {
   "cell_type": "code",
   "execution_count": 9,
   "metadata": {},
   "outputs": [
    {
     "data": {
      "text/plain": [
       "array([2, 4, 6])"
      ]
     },
     "execution_count": 9,
     "metadata": {},
     "output_type": "execute_result"
    }
   ],
   "source": [
    "arr_1*2"
   ]
  },
  {
   "cell_type": "code",
   "execution_count": 10,
   "metadata": {},
   "outputs": [
    {
     "data": {
      "text/plain": [
       "[1, 2, 3, 2, 3, 4]"
      ]
     },
     "execution_count": 10,
     "metadata": {},
     "output_type": "execute_result"
    }
   ],
   "source": [
    "l_1=[1,2,3]\n",
    "l_2=[2,3,4]\n",
    "l_1+l_2"
   ]
  },
  {
   "cell_type": "code",
   "execution_count": 11,
   "metadata": {},
   "outputs": [],
   "source": [
    "arr_1=np.array(l_1)\n",
    "arr_2=np.array(l_2)"
   ]
  },
  {
   "cell_type": "code",
   "execution_count": 12,
   "metadata": {},
   "outputs": [
    {
     "data": {
      "text/plain": [
       "array([3, 5, 7])"
      ]
     },
     "execution_count": 12,
     "metadata": {},
     "output_type": "execute_result"
    }
   ],
   "source": [
    "arr_1+arr_2"
   ]
  },
  {
   "cell_type": "code",
   "execution_count": 13,
   "metadata": {},
   "outputs": [
    {
     "data": {
      "text/plain": [
       "np.int64(6)"
      ]
     },
     "execution_count": 13,
     "metadata": {},
     "output_type": "execute_result"
    }
   ],
   "source": [
    "arr_1.sum()"
   ]
  },
  {
   "cell_type": "code",
   "execution_count": 14,
   "metadata": {},
   "outputs": [
    {
     "data": {
      "text/plain": [
       "np.int64(1)"
      ]
     },
     "execution_count": 14,
     "metadata": {},
     "output_type": "execute_result"
    }
   ],
   "source": [
    "#Indexing\n",
    "arr_1[0]"
   ]
  },
  {
   "cell_type": "code",
   "execution_count": 15,
   "metadata": {},
   "outputs": [
    {
     "data": {
      "text/plain": [
       "np.int64(3)"
      ]
     },
     "execution_count": 15,
     "metadata": {},
     "output_type": "execute_result"
    }
   ],
   "source": [
    "arr_1[2]"
   ]
  },
  {
   "cell_type": "code",
   "execution_count": 16,
   "metadata": {},
   "outputs": [
    {
     "name": "stdout",
     "output_type": "stream",
     "text": [
      "1\n",
      "2\n",
      "3\n"
     ]
    }
   ],
   "source": [
    "for i in arr_1:\n",
    "    print(i)"
   ]
  },
  {
   "cell_type": "code",
   "execution_count": 17,
   "metadata": {},
   "outputs": [],
   "source": [
    "arr_2D=np.array([[1,1],[2,1],[3,2]])"
   ]
  },
  {
   "cell_type": "code",
   "execution_count": 18,
   "metadata": {},
   "outputs": [
    {
     "data": {
      "text/plain": [
       "array([[1, 1],\n",
       "       [2, 1],\n",
       "       [3, 2]])"
      ]
     },
     "execution_count": 18,
     "metadata": {},
     "output_type": "execute_result"
    }
   ],
   "source": [
    "arr_2D"
   ]
  },
  {
   "cell_type": "code",
   "execution_count": 19,
   "metadata": {},
   "outputs": [
    {
     "data": {
      "text/plain": [
       "array([[0.4176611 , 0.34292735],\n",
       "       [0.63261186, 0.36313854],\n",
       "       [0.393453  , 0.11591479]])"
      ]
     },
     "execution_count": 19,
     "metadata": {},
     "output_type": "execute_result"
    }
   ],
   "source": [
    "rand_array=np.random.random(size=[3,2])\n",
    "rand_array"
   ]
  },
  {
   "cell_type": "code",
   "execution_count": 20,
   "metadata": {},
   "outputs": [
    {
     "data": {
      "text/plain": [
       "array([[0., 0.],\n",
       "       [0., 0.],\n",
       "       [0., 0.]])"
      ]
     },
     "execution_count": 20,
     "metadata": {},
     "output_type": "execute_result"
    }
   ],
   "source": [
    "zero_array=np.zeros(shape=[3,2])\n",
    "zero_array"
   ]
  },
  {
   "cell_type": "code",
   "execution_count": 21,
   "metadata": {},
   "outputs": [
    {
     "data": {
      "text/plain": [
       "array([[0., 0.],\n",
       "       [0., 0.],\n",
       "       [0., 0.]])"
      ]
     },
     "execution_count": 21,
     "metadata": {},
     "output_type": "execute_result"
    }
   ],
   "source": [
    "zero_array"
   ]
  },
  {
   "cell_type": "code",
   "execution_count": 22,
   "metadata": {},
   "outputs": [],
   "source": [
    "rand_array=np.random.random(size=[5,5])"
   ]
  },
  {
   "cell_type": "code",
   "execution_count": 23,
   "metadata": {},
   "outputs": [
    {
     "data": {
      "text/plain": [
       "array([[0.58539704, 0.43073112, 0.78514495, 0.70930329, 0.62036042],\n",
       "       [0.42758959, 0.65133481, 0.78859007, 0.6294999 , 0.05925128],\n",
       "       [0.63291695, 0.27101984, 0.88868598, 0.32473264, 0.44533986],\n",
       "       [0.29583835, 0.84897963, 0.3600755 , 0.54232521, 0.03032908],\n",
       "       [0.21616713, 0.35561527, 0.29652439, 0.31407609, 0.85479092]])"
      ]
     },
     "execution_count": 23,
     "metadata": {},
     "output_type": "execute_result"
    }
   ],
   "source": [
    "rand_array"
   ]
  },
  {
   "cell_type": "code",
   "execution_count": 24,
   "metadata": {},
   "outputs": [
    {
     "data": {
      "text/plain": [
       "np.float64(0.6513348106648373)"
      ]
     },
     "execution_count": 24,
     "metadata": {},
     "output_type": "execute_result"
    }
   ],
   "source": [
    "rand_array[1,1]"
   ]
  },
  {
   "cell_type": "code",
   "execution_count": 25,
   "metadata": {},
   "outputs": [
    {
     "data": {
      "text/plain": [
       "array([[0.58539704, 0.43073112],\n",
       "       [0.42758959, 0.65133481]])"
      ]
     },
     "execution_count": 25,
     "metadata": {},
     "output_type": "execute_result"
    }
   ],
   "source": [
    "rand_array[0:2,0:2]"
   ]
  },
  {
   "cell_type": "code",
   "execution_count": 26,
   "metadata": {},
   "outputs": [
    {
     "data": {
      "text/plain": [
       "array([3.13093682, 2.55626566, 2.56269526, 2.07754778, 2.03717381])"
      ]
     },
     "execution_count": 26,
     "metadata": {},
     "output_type": "execute_result"
    }
   ],
   "source": [
    "rand_array.sum(axis=1)"
   ]
  },
  {
   "cell_type": "code",
   "execution_count": 27,
   "metadata": {},
   "outputs": [
    {
     "data": {
      "text/plain": [
       "np.float64(2.08058552)"
      ]
     },
     "execution_count": 27,
     "metadata": {},
     "output_type": "execute_result"
    }
   ],
   "source": [
    "np.array([0.4924862 , 0.58400964, 0.42182289, 0.31476085, 0.26750594]).sum()"
   ]
  },
  {
   "cell_type": "code",
   "execution_count": 28,
   "metadata": {},
   "outputs": [
    {
     "data": {
      "text/plain": [
       "array([[5.85397039, 4.3073112 , 7.85144947, 7.09303293, 6.20360419],\n",
       "       [4.27589587, 6.51334811, 7.88590073, 6.29499905, 0.59251285],\n",
       "       [6.32916946, 2.71019836, 8.88685979, 3.24732643, 4.45339856],\n",
       "       [2.95838347, 8.48979632, 3.60075504, 5.42325213, 0.30329081],\n",
       "       [2.16167134, 3.55615273, 2.96524394, 3.14076088, 8.54790922]])"
      ]
     },
     "execution_count": 28,
     "metadata": {},
     "output_type": "execute_result"
    }
   ],
   "source": [
    "rand_array*10"
   ]
  },
  {
   "cell_type": "code",
   "execution_count": 29,
   "metadata": {},
   "outputs": [
    {
     "data": {
      "text/plain": [
       "array([[0.58539704, 0.43073112, 0.78514495, 0.70930329, 0.62036042],\n",
       "       [0.42758959, 0.65133481, 0.78859007, 0.6294999 , 0.05925128],\n",
       "       [0.63291695, 0.27101984, 0.88868598, 0.32473264, 0.44533986],\n",
       "       [0.29583835, 0.84897963, 0.3600755 , 0.54232521, 0.03032908],\n",
       "       [0.21616713, 0.35561527, 0.29652439, 0.31407609, 0.85479092]])"
      ]
     },
     "execution_count": 29,
     "metadata": {},
     "output_type": "execute_result"
    }
   ],
   "source": [
    "rand_array"
   ]
  },
  {
   "cell_type": "code",
   "execution_count": 30,
   "metadata": {},
   "outputs": [],
   "source": [
    "rand_array=np.random.random(size=100)"
   ]
  },
  {
   "cell_type": "code",
   "execution_count": 31,
   "metadata": {},
   "outputs": [],
   "source": [
    "rand_array.sort()\n"
   ]
  },
  {
   "cell_type": "code",
   "execution_count": 32,
   "metadata": {},
   "outputs": [
    {
     "data": {
      "text/plain": [
       "array([0.00143153, 0.01207364, 0.02762608, 0.02795049, 0.05004052,\n",
       "       0.05975227, 0.06000871, 0.06288776, 0.065137  , 0.07864025,\n",
       "       0.1163567 , 0.1306373 , 0.13594898, 0.13929595, 0.15543041,\n",
       "       0.16425767, 0.16544347, 0.16612456, 0.17635307, 0.20349089,\n",
       "       0.21611891, 0.2208322 , 0.22251958, 0.24499762, 0.24964112,\n",
       "       0.25462993, 0.25977704, 0.26870536, 0.27156893, 0.28961561,\n",
       "       0.29010961, 0.31678218, 0.3194342 , 0.32354193, 0.32725811,\n",
       "       0.33059289, 0.36579664, 0.36742368, 0.37078012, 0.37477117,\n",
       "       0.40664727, 0.41523902, 0.41543735, 0.41891836, 0.41947523,\n",
       "       0.42028024, 0.42320939, 0.46081662, 0.49532121, 0.50170223,\n",
       "       0.50927807, 0.51985605, 0.53436343, 0.5368563 , 0.54930971,\n",
       "       0.55777852, 0.56593549, 0.56947142, 0.57829037, 0.58267645,\n",
       "       0.59407159, 0.60462322, 0.61006316, 0.61416571, 0.65043856,\n",
       "       0.67798379, 0.68129241, 0.68577293, 0.69663613, 0.69849309,\n",
       "       0.70391204, 0.70923055, 0.73886589, 0.74206965, 0.74562928,\n",
       "       0.75106492, 0.77910317, 0.78536901, 0.79237712, 0.80069438,\n",
       "       0.82245283, 0.82300826, 0.83359837, 0.83684318, 0.83918576,\n",
       "       0.84724143, 0.86116239, 0.8664082 , 0.8806223 , 0.88470088,\n",
       "       0.89380633, 0.91246909, 0.9271137 , 0.93767998, 0.93808451,\n",
       "       0.94064854, 0.94597883, 0.95879875, 0.99913404, 0.99954099])"
      ]
     },
     "execution_count": 32,
     "metadata": {},
     "output_type": "execute_result"
    }
   ],
   "source": [
    "rand_array"
   ]
  },
  {
   "cell_type": "code",
   "execution_count": 33,
   "metadata": {},
   "outputs": [],
   "source": [
    " #for row in rand_array:\n",
    "#     for i in row:\n",
    "#         print(i)"
   ]
  },
  {
   "cell_type": "code",
   "execution_count": 34,
   "metadata": {},
   "outputs": [],
   "source": [
    "# Exercises."
   ]
  },
  {
   "cell_type": "code",
   "execution_count": 35,
   "metadata": {},
   "outputs": [
    {
     "data": {
      "text/plain": [
       "np.float64(500.0)"
      ]
     },
     "execution_count": 35,
     "metadata": {},
     "output_type": "execute_result"
    }
   ],
   "source": [
    "x=np.linspace(0,10,100)\n",
    "x.sum()"
   ]
  },
  {
   "cell_type": "code",
   "execution_count": null,
   "metadata": {},
   "outputs": [],
   "source": []
  },
  {
   "cell_type": "code",
   "execution_count": 36,
   "metadata": {},
   "outputs": [
    {
     "data": {
      "text/plain": [
       "array([ 2.        ,  2.70707071,  3.41414141,  4.12121212,  4.82828283,\n",
       "        5.53535354,  6.24242424,  6.94949495,  7.65656566,  8.36363636,\n",
       "        9.07070707,  9.77777778, 10.48484848, 11.19191919, 11.8989899 ,\n",
       "       12.60606061, 13.31313131, 14.02020202, 14.72727273, 15.43434343,\n",
       "       16.14141414, 16.84848485, 17.55555556, 18.26262626, 18.96969697,\n",
       "       19.67676768, 20.38383838, 21.09090909, 21.7979798 , 22.50505051,\n",
       "       23.21212121, 23.91919192, 24.62626263, 25.33333333, 26.04040404,\n",
       "       26.74747475, 27.45454545, 28.16161616, 28.86868687, 29.57575758,\n",
       "       30.28282828, 30.98989899, 31.6969697 , 32.4040404 , 33.11111111,\n",
       "       33.81818182, 34.52525253, 35.23232323, 35.93939394, 36.64646465,\n",
       "       37.35353535, 38.06060606, 38.76767677, 39.47474747, 40.18181818,\n",
       "       40.88888889, 41.5959596 , 42.3030303 , 43.01010101, 43.71717172,\n",
       "       44.42424242, 45.13131313, 45.83838384, 46.54545455, 47.25252525,\n",
       "       47.95959596, 48.66666667, 49.37373737, 50.08080808, 50.78787879,\n",
       "       51.49494949, 52.2020202 , 52.90909091, 53.61616162, 54.32323232,\n",
       "       55.03030303, 55.73737374, 56.44444444, 57.15151515, 57.85858586,\n",
       "       58.56565657, 59.27272727, 59.97979798, 60.68686869, 61.39393939,\n",
       "       62.1010101 , 62.80808081, 63.51515152, 64.22222222, 64.92929293,\n",
       "       65.63636364, 66.34343434, 67.05050505, 67.75757576, 68.46464646,\n",
       "       69.17171717, 69.87878788, 70.58585859, 71.29292929, 72.        ])"
      ]
     },
     "execution_count": 36,
     "metadata": {},
     "output_type": "execute_result"
    }
   ],
   "source": [
    "#Calculate y=7x+2\n",
    "y=7*x+2\n",
    "y"
   ]
  },
  {
   "cell_type": "code",
   "execution_count": 37,
   "metadata": {},
   "outputs": [
    {
     "data": {
      "text/plain": [
       "array([0.        , 0.01020304, 0.04081216, 0.09182736, 0.16324865,\n",
       "       0.25507601, 0.36730946, 0.49994898, 0.65299459, 0.82644628])"
      ]
     },
     "execution_count": 37,
     "metadata": {},
     "output_type": "execute_result"
    }
   ],
   "source": [
    "#Calculate y=x**2 for the first 10 elements\n",
    "first_10=x[0:10]\n",
    "y=first_10**2\n",
    "y"
   ]
  },
  {
   "cell_type": "code",
   "execution_count": 38,
   "metadata": {},
   "outputs": [
    {
     "data": {
      "text/plain": [
       "np.float64(0.040812162024283234)"
      ]
     },
     "execution_count": 38,
     "metadata": {},
     "output_type": "execute_result"
    }
   ],
   "source": [
    "x[2]*x[2]"
   ]
  },
  {
   "cell_type": "code",
   "execution_count": 39,
   "metadata": {},
   "outputs": [],
   "source": [
    "#Define a 100 equally spaced points using linspace. And then another 100 random points. And then add x and y together\n",
    "x=np.linspace(0,10,100)\n",
    "\n",
    "y=np.random.random(size=100)\n"
   ]
  },
  {
   "cell_type": "code",
   "execution_count": 40,
   "metadata": {},
   "outputs": [],
   "source": [
    "#Add x and y together and save in z\n",
    "z=x+y"
   ]
  },
  {
   "cell_type": "code",
   "execution_count": 41,
   "metadata": {},
   "outputs": [
    {
     "name": "stdout",
     "output_type": "stream",
     "text": [
      "Maximum=  21.77532024598524\n"
     ]
    }
   ],
   "source": [
    "#Calculate the sum of of x,y and z and tell me which one is the largest\n",
    "sum=x+y+z\n",
    "print('Maximum= ',np.amax(sum))"
   ]
  },
  {
   "cell_type": "code",
   "execution_count": 42,
   "metadata": {},
   "outputs": [
    {
     "data": {
      "text/plain": [
       "array([ 0.96425516,  0.26684969,  0.25368239,  0.52223416,  1.28007223,\n",
       "        1.37046979,  1.00256724,  1.17884878,  1.13669114,  1.69135673,\n",
       "        1.77132085,  1.30286636,  1.76245104,  1.74859451,  2.22252787,\n",
       "        1.66063937,  2.31656348,  2.42645274,  2.43051339,  2.34548045,\n",
       "        2.59571233,  2.9513723 ,  2.95624807,  3.15589541,  2.81667232,\n",
       "        3.35476423,  3.36222468,  3.34612136,  3.75052709,  3.86008381,\n",
       "        3.55058361,  4.02362697,  4.0083256 ,  4.11640281,  4.35200123,\n",
       "        4.53150045,  4.60577937,  4.69371924,  4.46696212,  4.90002569,\n",
       "        4.35607679,  4.68322939,  4.58506984,  4.60230288,  4.68313035,\n",
       "        4.80488565,  5.25027874,  5.19697452,  4.86386653,  5.45565252,\n",
       "        5.35383495,  5.20255196,  6.03461161,  5.9141758 ,  6.07501384,\n",
       "        6.09786413,  5.97805493,  6.20303426,  6.00488382,  6.30805412,\n",
       "        6.46341384,  7.0109145 ,  6.77674779,  6.84484206,  7.27767287,\n",
       "        7.18011022,  7.52659745,  7.64371027,  7.70194365,  7.85978672,\n",
       "        7.45534441,  7.6214647 ,  7.805372  ,  7.94752559,  7.58127831,\n",
       "        8.37818249,  8.52066253,  8.29190493,  8.00538263,  8.30814433,\n",
       "        8.2648485 ,  8.44613874,  9.00457038,  9.31963906,  8.51358687,\n",
       "        8.84729139,  9.15915383,  9.70270845,  9.32131353,  9.37907236,\n",
       "        9.1569467 ,  9.29316035, 10.24882292,  9.85645432, 10.12646754,\n",
       "        9.88966495,  9.98158016,  9.86229898, 10.71977478, 10.88766012])"
      ]
     },
     "execution_count": 42,
     "metadata": {},
     "output_type": "execute_result"
    }
   ],
   "source": [
    "z"
   ]
  },
  {
   "cell_type": "code",
   "execution_count": 43,
   "metadata": {},
   "outputs": [
    {
     "name": "stdout",
     "output_type": "stream",
     "text": [
      "500.0\n",
      "54.88868797625479\n",
      "554.8886879762548\n"
     ]
    }
   ],
   "source": [
    "print(x.sum())\n",
    "print(y.sum())\n",
    "print(z.sum())"
   ]
  },
  {
   "cell_type": "markdown",
   "metadata": {},
   "source": [
    "Exercise 1: Create a Chessboard Matrix\n",
    "Create an 8×8 matrix representing a chessboard (1s and Os alternating).\n",
    "\n",
    "Exercise 2: Mandelbrot Set Computation Task: Generate a Mandelbrot set image using NumPy arrays and complex numbers over a grid of\n",
    "complex values.\n",
    "\n",
    "Exercise 3: Moving Average Using Strides Task: Write a function using np.lib.stride_tricks.sliding_window_view() to compute a moving\n",
    "average over a 1D array of size n with window size k.\n",
    "\n",
    "Exercise 4: Vectorize a Game of Life Step Task: Implement a single step of Conway's Game of Life using NumPy's slicing and broadcasting\n",
    "(no Python loops).\n",
    "\n",
    "Exercise 5: Block-wise Matrix Transformation Task: Given a large 2D array, divide it into non-overlapping 4×4 blocks and compute the sum of\n",
    "each block efficiently.\n",
    "\n",
    "Exercise 6: Construct a Toeplitz Matrix Without Loop Task: Given a vector [a0, a1, a2, ... , an], construct a Toeplitz matrix using broadcasting\n",
    "and slicing.\n",
    "\n",
    "Exercise 7: Fast Pairwise Distance Matrix Task: Given a matrix X of shape (n, d), compute the Euclidean distance between all pairs of rows\n",
    "using only NumPy (no loops, no sklearn).\n",
    "\n",
    "Exercise 8: Random Walk Simulation Task: Simulate m independent 1D random walks each of length n, and compute how many of them\n",
    "return to the origin at least once.\n",
    "\n",
    "Exercise 9: Eigenvector Validation Task: Generate a symmetric matrix and use NumPy to find its eigenvalues and eigenvectors. Then validate the decomposition A @ v = A *v.\n",
    "\n",
    "Exercise 10: Argmin with Condition Masking Task: Given a 2D array, write a function that returns the index of the minimum element per row\n",
    "that also satisfies a condition mask."
   ]
  },
  {
   "cell_type": "code",
   "execution_count": 44,
   "metadata": {},
   "outputs": [],
   "source": [
    "import matplotlib.pyplot as plt\n",
    "import numpy as np"
   ]
  },
  {
   "cell_type": "markdown",
   "metadata": {},
   "source": [
    "Exercise 1: Create a Chessboard Matrix\n",
    "Create an 8×8 matrix representing a chessboard (1s and Os alternating)."
   ]
  },
  {
   "cell_type": "code",
   "execution_count": 45,
   "metadata": {},
   "outputs": [
    {
     "data": {
      "text/plain": [
       "array([[0., 1., 0., 1., 0., 1., 0., 1.],\n",
       "       [1., 0., 1., 0., 1., 0., 1., 0.],\n",
       "       [0., 1., 0., 1., 0., 1., 0., 1.],\n",
       "       [1., 0., 1., 0., 1., 0., 1., 0.],\n",
       "       [0., 1., 0., 1., 0., 1., 0., 1.],\n",
       "       [1., 0., 1., 0., 1., 0., 1., 0.],\n",
       "       [0., 1., 0., 1., 0., 1., 0., 1.],\n",
       "       [1., 0., 1., 0., 1., 0., 1., 0.]])"
      ]
     },
     "execution_count": 45,
     "metadata": {},
     "output_type": "execute_result"
    }
   ],
   "source": [
    "def chessboard(n):\n",
    "    n=int(n)\n",
    "    x = np.zeros((n, n))\n",
    "    x[1::2, ::2] = 1\n",
    "    x[::2, 1::2] = 1\n",
    "    return x\n",
    "\n",
    "n = 8\n",
    "chessboard(n)"
   ]
  },
  {
   "cell_type": "markdown",
   "metadata": {},
   "source": [
    "Exercise 2: Mandelbrot Set Computation Task: Generate a Mandelbrot set image using NumPy arrays and complex numbers over a grid of\n",
    "complex values."
   ]
  },
  {
   "cell_type": "code",
   "execution_count": 46,
   "metadata": {},
   "outputs": [
    {
     "data": {
      "image/png": "[encoded data removed]",
      "text/plain": [
       "<Figure size 800x800 with 2 Axes>"
      ]
     },
     "metadata": {},
     "output_type": "display_data"
    }
   ],
   "source": [
    "width, height = 800, 800\n",
    "x_min, x_max = -2.0, 1.0\n",
    "y_min, y_max = -1.5, 1.5\n",
    "max_iter = 100\n",
    "\n",
    "x = np.linspace(x_min, x_max, width)\n",
    "y = np.linspace(y_min, y_max, height)\n",
    "X, Y = np.meshgrid(x, y)\n",
    "C = X + 1j * Y\n",
    "Z = np.zeros_like(C, dtype=np.complex128)\n",
    "mandelbrot_set = np.zeros(C.shape, dtype=int)\n",
    "\n",
    "for i in range(max_iter):\n",
    "    mask = np.abs(Z) <= 2\n",
    "    Z[mask] = Z[mask] ** 2 + C[mask]\n",
    "    mandelbrot_set[mask & (np.abs(Z) > 2)] = i\n",
    "\n",
    "plt.figure(figsize=(8, 8))\n",
    "plt.imshow(mandelbrot_set, extent=(x_min, x_max, y_min, y_max), cmap='hot')\n",
    "plt.colorbar(label='Number of iterations')\n",
    "plt.title(\"Mandelbrot Set\")\n",
    "plt.xlabel(\"Real\")\n",
    "plt.ylabel(\"Imaginary\")\n",
    "plt.show()\n"
   ]
  },
  {
   "cell_type": "markdown",
   "metadata": {},
   "source": [
    "Exercise 3: Moving Average Using Strides Task: Write a function using np.lib.stride_tricks.sliding_window_view() to compute a moving\n",
    "average over a 1D array of size n with window size k."
   ]
  },
  {
   "cell_type": "code",
   "execution_count": 47,
   "metadata": {},
   "outputs": [],
   "source": [
    "def moving_average(arr, k):\n",
    "    if k > len(arr):\n",
    "        raise ValueError(\"Window size k must be less than or equal to the length of the input array.\")\n",
    "    \n",
    "    windows = np.lib.stride_tricks.sliding_window_view(arr, window_shape=k)\n",
    "    \n",
    "    return windows.mean(axis=1)"
   ]
  },
  {
   "cell_type": "code",
   "execution_count": 48,
   "metadata": {},
   "outputs": [
    {
     "data": {
      "image/png": "[encoded data removed]",
      "text/plain": [
       "<Figure size 1000x500 with 1 Axes>"
      ]
     },
     "metadata": {},
     "output_type": "display_data"
    }
   ],
   "source": [
    "np.random.seed(0)\n",
    "n = 50\n",
    "arr = np.random.randn(n).cumsum()\n",
    "\n",
    "plt.figure(figsize=(10, 5))\n",
    "plt.plot(arr, label='Original Data', linestyle='-', marker='o')\n",
    "\n",
    "k = 5\n",
    "avg = moving_average(arr, k)\n",
    "\n",
    "x_avg = np.arange(k - 1, n)\n",
    "plt.plot(x_avg, avg, label=f'Moving Average (k={k})', color='orange', linewidth=2)\n",
    "\n",
    "plt.title(\"Original vs Moving Average\")\n",
    "plt.xlabel(\"Index\")\n",
    "plt.ylabel(\"Value\")\n",
    "plt.legend()\n",
    "plt.grid(True)\n",
    "plt.tight_layout()\n",
    "plt.show()"
   ]
  },
  {
   "cell_type": "markdown",
   "metadata": {},
   "source": [
    "Exercise 4: Vectorize a Game of Life Step Task: Implement a single step of Conway's Game of Life using NumPy's slicing and broadcasting\n",
    "(no Python loops)."
   ]
  },
  {
   "cell_type": "code",
   "execution_count": 49,
   "metadata": {},
   "outputs": [],
   "source": [
    "def game_of_life_step(grid):\n",
    "    padded = np.pad(grid, pad_width=1, mode='constant', constant_values=0)\n",
    "    neighbors = (\n",
    "        padded[0:-2, 0:-2] + padded[0:-2, 1:-1] + padded[0:-2, 2:] +\n",
    "        padded[1:-1, 0:-2]                    + padded[1:-1, 2:] +\n",
    "        padded[2:,   0:-2] + padded[2:,   1:-1] + padded[2:,   2:]\n",
    "    )\n",
    "    new_grid = ((grid == 1) & ((neighbors == 2) | (neighbors == 3))) | \\\n",
    "               ((grid == 0) & (neighbors == 3))\n",
    "    \n",
    "    return new_grid.astype(int)"
   ]
  },
  {
   "cell_type": "code",
   "execution_count": 50,
   "metadata": {},
   "outputs": [
    {
     "name": "stdout",
     "output_type": "stream",
     "text": [
      "[[0 0 0 0 0 0 0 0 0 0 0 0 0]\n",
      " [0 0 0 0 0 0 0 0 0 0 0 0 0]\n",
      " [0 0 0 0 0 0 0 0 0 0 0 0 0]\n",
      " [0 0 0 0 0 0 0 0 0 0 0 0 0]\n",
      " [0 0 0 0 0 0 0 0 0 0 0 0 0]\n",
      " [0 0 0 0 0 0 0 0 0 0 0 0 0]\n",
      " [0 0 0 0 0 1 0 1 0 0 0 0 0]\n",
      " [0 0 0 0 0 0 1 1 0 0 0 0 0]\n",
      " [0 0 0 0 0 0 1 0 0 0 0 0 0]\n",
      " [0 0 0 0 0 0 0 0 0 0 0 0 0]\n",
      " [0 0 0 0 0 0 0 0 0 0 0 0 0]\n",
      " [0 0 0 0 0 0 0 0 0 0 0 0 0]\n",
      " [0 0 0 0 0 0 0 0 0 0 0 0 0]]\n"
     ]
    }
   ],
   "source": [
    "grid = np.array([\n",
    "    [0, 1, 0],\n",
    "    [0, 0, 1],\n",
    "    [1, 1, 1]\n",
    "])\n",
    "\n",
    "grid = np.pad(grid, pad_width=5)\n",
    "\n",
    "next_grid = game_of_life_step(grid)\n",
    "\n",
    "print(next_grid)"
   ]
  },
  {
   "cell_type": "markdown",
   "metadata": {},
   "source": [
    "Exercise 5: Block-wise Matrix Transformation Task: Given a large 2D array, divide it into non-overlapping 4×4 blocks and compute the sum of\n",
    "each block efficiently."
   ]
  },
  {
   "cell_type": "code",
   "execution_count": 51,
   "metadata": {},
   "outputs": [],
   "source": [
    "def block_sum(arr, block_size=(4, 4)):\n",
    "    m, n = arr.shape\n",
    "    bh, bw = block_size\n",
    "    \n",
    "    if m % bh != 0 or n % bw != 0:\n",
    "        raise ValueError(\"Array dimensions must be divisible by block size.\")\n",
    "\n",
    "    reshaped = arr.reshape(m // bh, bh, n // bw, bw)\n",
    "    return reshaped.sum(axis=(1, 3))"
   ]
  },
  {
   "cell_type": "code",
   "execution_count": 52,
   "metadata": {},
   "outputs": [
    {
     "name": "stdout",
     "output_type": "stream",
     "text": [
      "Original array:\n",
      " [[6 1 4 4 8 4 6 3]\n",
      " [5 8 7 9 9 2 7 8]\n",
      " [8 9 2 6 9 5 4 1]\n",
      " [4 6 1 3 4 9 2 4]\n",
      " [4 4 8 1 2 1 5 8]\n",
      " [4 3 8 3 1 1 5 6]\n",
      " [6 7 9 5 2 5 9 2]\n",
      " [2 8 4 7 8 3 1 4]]\n",
      "\n",
      "4×4 Block-wise sum:\n",
      " [[83 85]\n",
      " [83 63]]\n"
     ]
    }
   ],
   "source": [
    "np.random.seed(0)\n",
    "arr = np.random.randint(1, 10, size=(8, 8))  \n",
    "block_sums = block_sum(arr, block_size=(4, 4))\n",
    "\n",
    "print(\"Original array:\\n\", arr)\n",
    "print(\"\\n4×4 Block-wise sum:\\n\", block_sums)"
   ]
  },
  {
   "cell_type": "markdown",
   "metadata": {},
   "source": [
    "Exercise 6: Construct a Toeplitz Matrix Without Loop Task: Given a vector [a0, a1, a2, ... , an], construct a Toeplitz matrix using broadcasting\n",
    "and slicing."
   ]
  },
  {
   "cell_type": "code",
   "execution_count": 53,
   "metadata": {},
   "outputs": [],
   "source": [
    "def toeplitz_from_vector(v):\n",
    "    v = np.asarray(v)\n",
    "    n = len(v)\n",
    "    \n",
    "    i = np.arange(n).reshape(-1, 1)\n",
    "    j = np.arange(n).reshape(1, -1) \n",
    "    \n",
    "    return v[np.abs(i - j)]"
   ]
  },
  {
   "cell_type": "code",
   "execution_count": 54,
   "metadata": {},
   "outputs": [
    {
     "name": "stdout",
     "output_type": "stream",
     "text": [
      "[[1 2 3 4]\n",
      " [2 1 2 3]\n",
      " [3 2 1 2]\n",
      " [4 3 2 1]]\n"
     ]
    }
   ],
   "source": [
    "v = np.array([1, 2, 3, 4])\n",
    "T = toeplitz_from_vector(v)\n",
    "\n",
    "print(T)"
   ]
  },
  {
   "cell_type": "markdown",
   "metadata": {},
   "source": [
    "Exercise 7: Fast Pairwise Distance Matrix Task: Given a matrix X of shape (n, d), compute the Euclidean distance between all pairs of rows\n",
    "using only NumPy (no loops, no sklearn)."
   ]
  },
  {
   "cell_type": "code",
   "execution_count": 55,
   "metadata": {},
   "outputs": [],
   "source": [
    "def pairwise_distances(X):\n",
    "    X_squared = np.sum(X**2, axis=1, keepdims=True)\n",
    "    \n",
    "    sq_dists = X_squared + X_squared.T - 2 * X @ X.T\n",
    "    \n",
    "    sq_dists = np.maximum(sq_dists, 0)\n",
    "    \n",
    "    return np.sqrt(sq_dists)"
   ]
  },
  {
   "cell_type": "code",
   "execution_count": 56,
   "metadata": {},
   "outputs": [
    {
     "name": "stdout",
     "output_type": "stream",
     "text": [
      "[[0.   2.83 5.66]\n",
      " [2.83 0.   2.83]\n",
      " [5.66 2.83 0.  ]]\n"
     ]
    }
   ],
   "source": [
    "X = np.array([\n",
    "    [1, 2],\n",
    "    [3, 4],\n",
    "    [5, 6]\n",
    "])\n",
    "\n",
    "D = pairwise_distances(X)\n",
    "print(np.round(D, 2))"
   ]
  },
  {
   "cell_type": "markdown",
   "metadata": {},
   "source": [
    "Exercise 8: Random Walk Simulation Task: Simulate m independent 1D random walks each of length n, and compute how many of them\n",
    "return to the origin at least once."
   ]
  },
  {
   "cell_type": "code",
   "execution_count": 57,
   "metadata": {},
   "outputs": [],
   "source": [
    "def random_walks_return_count(m, n, seed=None):\n",
    "    if seed is not None:\n",
    "        np.random.seed(seed)\n",
    "    \n",
    "    steps = np.random.choice([-1, 1], size=(m, n))\n",
    " \n",
    "    positions = np.cumsum(steps, axis=1)\n",
    "    \n",
    "    has_returned = np.any(positions == 0, axis=1)\n",
    "    \n",
    "    return np.sum(has_returned)"
   ]
  },
  {
   "cell_type": "code",
   "execution_count": 58,
   "metadata": {},
   "outputs": [
    {
     "name": "stdout",
     "output_type": "stream",
     "text": [
      "Out of 10000 walks, 9219 returned to the origin at least once.\n"
     ]
    }
   ],
   "source": [
    "m = 10000  \n",
    "n = 100  \n",
    "\n",
    "returns = random_walks_return_count(m, n, seed=None)\n",
    "print(f\"Out of {m} walks, {returns} returned to the origin at least once.\")"
   ]
  },
  {
   "cell_type": "markdown",
   "metadata": {},
   "source": [
    "Exercise 9: Eigenvector Validation Task: Generate a symmetric matrix and use NumPy to find its eigenvalues and eigenvectors. Then validate the decomposition A @ v = A *v."
   ]
  },
  {
   "cell_type": "code",
   "execution_count": 59,
   "metadata": {},
   "outputs": [
    {
     "name": "stdout",
     "output_type": "stream",
     "text": [
      "Eigenpair 0:\n",
      "A @ v ≈ λ * v: True\n",
      "\n",
      "Eigenpair 1:\n",
      "A @ v ≈ λ * v: True\n",
      "\n",
      "Eigenpair 2:\n",
      "A @ v ≈ λ * v: True\n",
      "\n",
      "Eigenpair 3:\n",
      "A @ v ≈ λ * v: True\n",
      "\n"
     ]
    }
   ],
   "source": [
    "np.random.seed(0)\n",
    "n = 4\n",
    "M = np.random.randn(n, n)\n",
    "A = (M + M.T) / 2  \n",
    "eigvals, eigvecs = np.linalg.eigh(A) \n",
    "\n",
    "for i in range(n):\n",
    "    v = eigvecs[:, i]        \n",
    "    λ = eigvals[i]           \n",
    "\n",
    "    Av = A @ v               \n",
    "    lv = λ * v        \n",
    "\n",
    "    # Check closeness\n",
    "    print(f\"Eigenpair {i}:\")\n",
    "    print(\"A @ v ≈ λ * v:\", np.allclose(Av, lv))\n",
    "    print()"
   ]
  },
  {
   "cell_type": "markdown",
   "metadata": {},
   "source": [
    "Exercise 10: Argmin with Condition Masking Task: Given a 2D array, write a function that returns the index of the minimum element per row\n",
    "that also satisfies a condition mask."
   ]
  },
  {
   "cell_type": "code",
   "execution_count": 60,
   "metadata": {},
   "outputs": [],
   "source": [
    "def masked_row_argmin(A, mask):\n",
    "    A_masked = np.where(mask, A, np.inf)\n",
    "    return np.argmin(A_masked, axis=1)"
   ]
  },
  {
   "cell_type": "code",
   "execution_count": 61,
   "metadata": {},
   "outputs": [
    {
     "name": "stdout",
     "output_type": "stream",
     "text": [
      "[1 0 2]\n"
     ]
    }
   ],
   "source": [
    "A = np.array([[5, 3, 7],\n",
    "              [1, 9, 2],\n",
    "              [4, 6, 0]])\n",
    "\n",
    "mask = np.array([[False, True,  True],\n",
    "                 [True,  False, False],\n",
    "                 [False, True,  True]])\n",
    "\n",
    "print(masked_row_argmin(A, mask))\n"
   ]
  }
 ],
 "metadata": {
  "kernelspec": {
   "display_name": "Python 3 (ipykernel)",
   "language": "python",
   "name": "python3"
  },
  "language_info": {
   "codemirror_mode": {
    "name": "ipython",
    "version": 3
   },
   "file_extension": ".py",
   "mimetype": "text/x-python",
   "name": "python",
   "nbconvert_exporter": "python",
   "pygments_lexer": "ipython3",
   "version": "3.13.5"
  }
 },
 "nbformat": 4,
 "nbformat_minor": 4
}
