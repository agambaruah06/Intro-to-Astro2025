{
 "cells": [
  {
   "cell_type": "markdown",
   "metadata": {
    "slideshow": {
     "slide_type": "slide"
    }
   },
   "source": [
    "<div style=\"text-align:center;\"/>\n",
    "\n",
    "# `Unix` and `Git`\n",
    "\n",
    "## *Intro-2-Astro 2025*\n",
    "\n",
    "### [Chetan Chawla](https://sites.google.com/view/chetanchawla) (Tech Associate Consultant @ZS, Ex-Astrophysics Researcher @ASIAA) \n",
    "#### Referenced from [2021 Slides](https://github.com/howardisaacson/Intro-to-Astro-2021/blob/master/Week1_Intro_unix_python/unix_git_slides.ipynb) by: [Joey Murphy (UCSC)](https://murphyjm.github.io/) and from [Unix Software Carpentry](https://swcarpentry.github.io/shell-novice/)\n",
    "#### All images are either sourced from [Unix Software Carpentry](https://swcarpentry.github.io/shell-novice/) or are screenshots\n",
    "\n",
    "#### July 1st, 2025"
   ]
  },
  {
   "cell_type": "markdown",
   "metadata": {
    "slideshow": {
     "slide_type": "slide"
    }
   },
   "source": [
    "# What is Unix?\n",
    "\n",
    "- Unix is the first portable **operating system (OS)**\n",
    "- An OS facilitates the interface between hardware and software on your machine, and lets the user interact with the machine\n",
    "- It was written in 1971, entirely in the C programming language\n",
    "- It is extremely fast for repetitive tasks and is widely used for distributed applications\n",
    "- MacOS works on Unix. Linux is also a Unix-like alternative"
   ]
  },
  {
   "cell_type": "markdown",
   "metadata": {
    "slideshow": {
     "slide_type": "slide"
    }
   },
   "source": [
    "## What then is Unix Shell?\n",
    "\n",
    "- As Unix is an OS, the Unix shell is both a **command-line interface (CLI)** and a **scripting language**, which the users interact with\n",
    "- So, shell is a program where users can type commands (in a syntax)\n",
    "- BASH (Bourne Again SHell) is the most popular implementation of the Unix shell\n",
    "- We can combine these commands into a sequences or pipelines, called **scripts**, and accomplish larger tasks\n",
    "- Mac OS' `Terminal` provides a command-line interface for passing commands to Unix\n",
    "    - Linux also has a Unix-like implementation\n",
    "    - For windows users, you can either install a [Git Shell](https://carpentries.github.io/workshop-template/#shell), or install a [Linux Subsystem for Windows (WSL)](https://docs.microsoft.com/en-us/windows/wsl/install)\n",
    "    - In this Jupyter notebook, we can also use the magic command `%%bash` to make a Unix-like cell"
   ]
  },
  {
   "cell_type": "markdown",
   "metadata": {
    "slideshow": {
     "slide_type": "slide"
    }
   },
   "source": [
    "## Interacting with the Unix Shell\n",
    "\n",
    "- When the shell is first opened, you are presented with a prompt ( in most cases), indicating that the shell is waiting for input\n",
    "- We write a command and press enter to execute it\n",
    "- ```pwd``` is the command used to tell us the present working directory (folder), i.e., where the shell is currently operating in the file system\n",
    "\n",
    "\n",
    "<div style=\"text-align:center;\"/>\n",
    "<img src=\"https://www.notion.so/image/https%3A%2F%2Fs3-us-west-2.amazonaws.com%2Fsecure.notion-static.com%2F9ce4b297-b89b-400d-ba39-f2326e8e710c%2Fpwd.gif?table=block&id=093dd9f5-3d74-4509-9d9e-5113e6bc3a1a&spaceId=715086e5-0cab-4c71-8ba3-ab10dab963b1&userId=504fdaf1-f727-404a-b282-02b3266b8a31&cache=v2\" alt=\"pwd\" style=\"width: 70%; float:center;\"/> \n"
   ]
  },
  {
   "cell_type": "markdown",
   "metadata": {
    "slideshow": {
     "slide_type": "subslide"
    }
   },
   "source": [
    "## Navigating the file system\n",
    "\n",
    "- Unix (and linux) file system has a tree like filesystem, in which, `/` directory represents the root of the file system\n",
    "- It treats files and direcetories likewise in the file system\n",
    "- The root directory has a bunch of directories and files, which we can navigate to using `/Users/nelle/` (for nelle directory) or `/Users/nelle/filename.txt` (for a file)\n",
    "- `~` represents the user's home directory. The terminal opens up at home directory by default\n",
    "\n",
    "\n",
    "<div style=\"text-align:center;\"/>\n",
    "<img src=\"https://swcarpentry.github.io/shell-novice/fig/home-directories.svg\" alt=\"pwd\" style=\"width: 30%; float:center;\"/> "
   ]
  },
  {
   "cell_type": "markdown",
   "metadata": {
    "slideshow": {
     "slide_type": "subslide"
    }
   },
   "source": [
    "## Working with directories using commands\n",
    "\n",
    "- We can move around our working directory by using the command `cd [path]` (change directory)\n",
    "- Let us first go to the home directory using `cd ~`\n",
    "- We can now check the present working directory to see if we are in the home directory"
   ]
  },
  {
   "cell_type": "code",
   "execution_count": null,
   "metadata": {
    "slideshow": {
     "slide_type": "fragment"
    }
   },
   "outputs": [],
   "source": [
    "%%bash\n",
    "wsl -d ubuntu\n",
    "pwd "
   ]
  },
  {
   "cell_type": "markdown",
   "metadata": {
    "slideshow": {
     "slide_type": "subslide"
    }
   },
   "source": [
    "- If we do not move to home, our current working directory should be the one where the notebook is placed\n",
    "- We can use the command ```ls``` to see contents of the current working directory we are in"
   ]
  },
  {
   "cell_type": "code",
   "execution_count": null,
   "metadata": {
    "slideshow": {
     "slide_type": "fragment"
    }
   },
   "outputs": [],
   "source": [
    "%%bash\n",
    "pwd\n",
    "ls # List the contents of the current directory"
   ]
  },
  {
   "cell_type": "markdown",
   "metadata": {
    "slideshow": {
     "slide_type": "subslide"
    }
   },
   "source": [
    "## Some more directory commands\n",
    "### Changing Directories: Relative paths\n",
    "- `cd ..`: to up one directory in the filesystem (the parent durectory of current directory)\n",
    "- `cd .`: change directory to the current directory (no action)\n",
    "- `cd /`: change directory to root\n",
    "- `cd ~` or `cd`: change directory to user's home directory\n",
    "- `cd -`: change directory to the last directory you were using\n",
    "- `cd <directory>`: change directory to the name of directory passed as an argument to the command\n",
    "\n",
    "### Changing Directories: Absolute paths\n",
    "- `cd /Users/chetanchawla/Astrophysics/`: Here, an absolute path to the directory is given"
   ]
  },
  {
   "cell_type": "markdown",
   "metadata": {
    "slideshow": {
     "slide_type": "subslide"
    }
   },
   "source": [
    "\n",
    "<div style=\"text-align:center;\"/>\n",
    "<img src=\"https://www.notion.so/image/https%3A%2F%2Fs3-us-west-2.amazonaws.com%2Fsecure.notion-static.com%2Fe5c6dde1-edc0-4e35-8b6a-a2aba2c0efec%2Fcd.gif?table=block&id=5d8f0b69-0d59-4bf6-9ada-73633b610078&spaceId=715086e5-0cab-4c71-8ba3-ab10dab963b1&userId=504fdaf1-f727-404a-b282-02b3266b8a31&cache=v2\" alt=\"pwd\" style=\"width: 80%; float:center;\"/> "
   ]
  },
  {
   "cell_type": "markdown",
   "metadata": {
    "slideshow": {
     "slide_type": "subslide"
    }
   },
   "source": [
    "## Listing Contents\n",
    "- Flags are options that we pass on for a command to behave in a particular way\n",
    "- Single-letter flags are passed using ```-``` while multi-letter flags are passed using `--`\n",
    "- We can look for complete documentations and the information about flags for each command by using the command `man command` (this opens up a manual in an editor. use :q to quit), or `command --help` (used in linux)\n",
    "- `ls -l`: lists the directories and files in current directory in a list format\n",
    "- `ls -t`: lists the directories and files in current directory sorted by the time they were created/modified\n",
    "- We can also combine these flags. `ls -ltrh`: lists the directories and files in current directory in a **l**ist format, sorted by **t**ime in **r**everse order, in a **h**uman readable format  "
   ]
  },
  {
   "cell_type": "markdown",
   "metadata": {
    "slideshow": {
     "slide_type": "subslide"
    }
   },
   "source": [
    "\n",
    "<div style=\"text-align:center;\"/>\n",
    "<img src=\"https://www.notion.so/image/https%3A%2F%2Fs3-us-west-2.amazonaws.com%2Fsecure.notion-static.com%2F3289a259-4261-49e9-834b-e0f2f311b32b%2FScreenshot_2022-06-12_at_10.01.51_PM.png?table=block&id=d2429749-9e83-48b2-b5ad-add09c55c994&spaceId=715086e5-0cab-4c71-8ba3-ab10dab963b1&width=2000&userId=504fdaf1-f727-404a-b282-02b3266b8a31&cache=v2\" alt=\"pwd\" style=\"width: 80%; float:center;\"/> "
   ]
  },
  {
   "cell_type": "markdown",
   "metadata": {
    "slideshow": {
     "slide_type": "subslide"
    }
   },
   "source": [
    "## Creating files and directories, and deleting them\n",
    "\n",
    "- `touch [file]`: creates [file]\n",
    "\n",
    "- `mkdir [directory]`: creates a new directory\n",
    "\n",
    "- `rm [file]`: delete [file]. We can also delete an empty directory using ```rm [empty-dir]```\n",
    "\n",
    "- `rm -r [dir]`: delete a directory and recursively delete all files/subdirectories within that directory. `-i` is used for requesting confirmation before deleting something. \n",
    "\n",
    "**Be careful with `rm`! Especially if you're thinking about using the `-f` (force) or `-r` (recursive) options. Make sure you use `-i` option to confirm before deleting. This is permanent and you may use your important files, or even your complete filesystem (including the os).** "
   ]
  },
  {
   "cell_type": "markdown",
   "metadata": {
    "slideshow": {
     "slide_type": "subslide"
    }
   },
   "source": [
    "- Similar to touch, nano and vim are text editors in Unix shell with more complex capabilities.\n",
    "\n",
    "<div style=\"text-align:center;\"/>\n",
    "<img src=\"https://swcarpentry.github.io/shell-novice/fig/nano-screenshot.png\" alt=\"pwd\" style=\"width: 80%; float:center;\"/> \n"
   ]
  },
  {
   "cell_type": "markdown",
   "metadata": {
    "slideshow": {
     "slide_type": "subslide"
    }
   },
   "source": [
    "## Copying and moving\n",
    "- `cp [source file] [target file]`: make a copy of [source file] named [target file] in the working directory\n",
    "\n",
    "- `mv [file] [destination]`: move [file] from the working directory to the location specified by the [destination] path. Also used to rename files\n",
    "\n",
    "- `cp -r [directory1] [directory2]`: To make a copy/backup of a directory and all its contents recursively\n",
    "\n",
    "- `mv -r [directory1] [directory2]`: To move a directory and all its contents recursively to another directory"
   ]
  },
  {
   "cell_type": "markdown",
   "metadata": {
    "slideshow": {
     "slide_type": "fragment"
    }
   },
   "source": [
    "## Printing to the screen\n",
    "- `echo \"Message\"` is used to print things to the terminal\n",
    "- `echo $variable` is used to print the value of a variable to the terminal"
   ]
  },
  {
   "cell_type": "markdown",
   "metadata": {
    "slideshow": {
     "slide_type": "subslide"
    }
   },
   "source": [
    "## Working with files\n",
    "\n",
    "- `cat [file]`: print the content of the file on the terminal\n",
    "- `head -n 10 [file]`: display first 10 lines of [file]\n",
    "- `tail -n 5 [file]`: display last 5 lines of [file]\n",
    "\n",
    "## Operators\n",
    "They are used to combine the outputs of different commands together to create more powerful commands.\n",
    "\n",
    "- `cat > [file]`: overwrite the contents of [file] (starting at line 0) with the standard input from keyboard. (Use ctrl+d to end input)\n",
    "- `cat >> [file]`: append standard input to [file]'s existing contents\n",
    "- Here `>` is the overwrite operator and `>>` is the append operator. Similarly, `|` is the pipe operator which passes the output of one command as the input to another command."
   ]
  },
  {
   "cell_type": "markdown",
   "metadata": {
    "slideshow": {
     "slide_type": "subslide"
    }
   },
   "source": [
    "## Inspecting files\n",
    "- `grep [string] [file]`: search for and return all lines containing [string] in [file]\n",
    "\n",
    "- `ls | grep foo`: look for and return all file or sub-directory names in the working directory that contain \"foo\"\n",
    "\n",
    "- `find . -name *.txt`: Command to find files and directories by their names in the current directory (.). The argument passed to the name flag, `*.txt` implies that the command will find all files that ends in the extension _.txt_. \n",
    "\n",
    "- `*` is a wildcard, which matches zero or more characters. `?` is also a wildcard, but it matches exactly one character. For example \n",
    "    - `a*` means all names starting with letter a.\n",
    "    - `*a` means all names ending with a\n",
    "    - `*a*` means all names having the letter a\n",
    "    - `?a?` means a 3 letter word having a as the second word, and any two letters, one on each side of it"
   ]
  },
  {
   "cell_type": "markdown",
   "metadata": {
    "slideshow": {
     "slide_type": "subslide"
    }
   },
   "source": [
    "## Conclusion regarding commands: The general format\n",
    "\n",
    "<div style=\"text-align:center;\"/>\n",
    "<img src=\"https://swcarpentry.github.io/shell-novice/fig/shell_command_syntax.svg\" alt=\"pwd\" style=\"width: 60%; float:center;\"/> "
   ]
  },
  {
   "cell_type": "markdown",
   "metadata": {
    "slideshow": {
     "slide_type": "slide"
    }
   },
   "source": [
    "## Scripts\n",
    "\n",
    "- We can also write sequences of commands to do some complex tasks as scripts!\n",
    "- The following small script makes an empty file notebook_names.txt. It then finds all notebooks in the current directory (by finding extension .ipynb in the end), and prints their names. These printed names are saved in the notebook_names.txt file"
   ]
  },
  {
   "cell_type": "code",
   "execution_count": null,
   "metadata": {
    "slideshow": {
     "slide_type": "fragment"
    }
   },
   "outputs": [],
   "source": [
    "%%bash\n",
    "echo > notebook_names.txt\n",
    "for nb in *.ipynb\n",
    "    do\n",
    "        echo $nb >> notebook_names.txt\n",
    "    done"
   ]
  },
  {
   "cell_type": "markdown",
   "metadata": {
    "slideshow": {
     "slide_type": "slide"
    }
   },
   "source": [
    "# Assignment 1\n",
    "- Create a new directory named foo_dir\n",
    "- Change directories to foo_dir\n",
    "- Write \"Hello, world\" to a text file\n",
    "- Display the contents of the text file\n",
    "- Make a copy of the text file\n",
    "- Place the copy in a new sub-directory, foo_sub_dir"
   ]
  },
  {
   "cell_type": "code",
   "execution_count": null,
   "metadata": {
    "slideshow": {
     "slide_type": "fragment"
    }
   },
   "outputs": [],
   "source": [
    "%%bash\n",
    "# Creating a new directory named foo_dir (no error if exists)\n",
    "mkdir -p foo_dir\n",
    "\n",
    "# All subsequent commands are run inside foo_dir\n",
    "cd foo_dir\n",
    "\n",
    "# Write 'Hello, world' to text file\n",
    "echo \"Hello, world\" > assignment1.txt\n",
    "\n",
    "# Display the contents of the text file\n",
    "ls\n",
    "cat assignment1.txt\n",
    "\n",
    "# Make a copy of the text file\n",
    "cp assignment1.txt assignment1_copy.txt\n",
    "ls\n",
    "\n",
    "# Place the copy in a new subdirectory named foo_sub_dir (no error if exists)\n",
    "mkdir -p foo_sub_dir\n",
    "mv assignment1_copy.txt foo_sub_dir\n",
    "ls\n",
    "\n",
    "# Show contents of the subdirectory and the copied file\n",
    "cd foo_sub_dir\n",
    "ls\n",
    "cat assignment1_copy.txt"
   ]
  },
  {
   "cell_type": "markdown",
   "metadata": {
    "slideshow": {
     "slide_type": "subslide"
    }
   },
   "source": [
    "# Assignment #2\n",
    "Complete the [Unix Workbench](https://seankross.com/the-unix-workbench/) and  [Software Carpentary Course for Unix](https://swcarpentry.github.io/shell-novice/)"
   ]
  },
  {
   "cell_type": "markdown",
   "metadata": {},
   "source": [
    "- ```clear``` : will clean up the terminal\n",
    "- ```echo``` : prints text to the terminal\n",
    "- ```\\```: root directory\n",
    "- `cd`: to open directory\n",
    "    - `cd .`: to see current directory\n",
    "    - `cd ..`: to go to parent directory\n",
    "    - `cd ~/`: to go to root directory\n",
    "- ```ls```: to list\n",
    "    - `ls <directory> <directory>`: to list multiple directories together\n",
    "    - ```ls -l```: to list everything with their formats\n",
    "        - **d** means directory\n",
    "        - otherwise it is a file\n",
    "    - `ls -s`: display the size of files and directories alongside the names\n",
    "    - `ls -S`: sort the files and directories by size\n",
    "    - `ls -F`: listing of files and directories in the root directory /\n",
    "    - `ls -FR`: to list all the new direcory hierarchy\n",
    "    [Note: `Tab` once to complete a name based on possibility, twice to see all the files with a certain initials]\n",
    "- ```mkdir```: make a directory\n",
    "    - `mkdir -p`: to create a directory with nested subdirectories in a single operation\n",
    "\n",
    "[Note: While naming files and directories:\n",
    "    1. Don't use spaces. Use '-' or '_' instead.\n",
    "    2. Don't begin the name with '_' or '-'.\n",
    "    3. Don't use special characters. Stick with letters, numbers, ., -, _.]\n",
    "- ```touch```: to create a blank file\n",
    "- ```wc```: word count. [number of lines, number of words, number of characters]\n",
    "    - `wc -l`: onnly the number of lines per file\n",
    "- ```cat <file name>```:to print the text files\n",
    "- ```cat <file name> <file name>```: to concatenate the files\n",
    "- we use ```less``` instead of ```cat``` in case of very large files.\n",
    "    - ```spacebar``` to go to the next page\n",
    "    - ```b``` to go to the previous page\n",
    "    - `q` to quit\n",
    "- ```head```: to view first 10 lines\n",
    "- ```head -n 4```: to view first 4 lines\n",
    "- ```tail```: to view last 10 lines\n",
    "- ```tail -n 4```: to view last 4 lines\n",
    "- ```>```: for output redirection\n",
    "- `>>`: for appending a content with the already-existing content\n",
    "- ```echo <text> > <filename>```: to overwrite a text file with certian text. [Note: there is no undo option in Unix.]\n",
    "- ```nano```: text-editor. It can only work with plain character data, no tables, no images or any other human-friendly media. Many programmers use Emacs or Vim while graphical editors uses Gedit or VScode and writers uses Notepad++.\n",
    "[Note: Any file name is in the form of : <filename><extension> like thesis.pdf]\n",
    "    - `Ctrl+G`: Get Help\n",
    "    - `Ctrl+O`: WriteOut (to save changes made to the text file)\n",
    "    - `Ctrl+R`: Read File\n",
    "    - `Ctrl+Y`: Prev Page\n",
    "    - `Ctrl+K`: Cut Text\n",
    "    - `Ctrl+C`: Cur Pos\n",
    "    - `Ctrl+X`: Exit and go back to the prompt\n",
    "    - `Ctrl+J`: Justify\n",
    "    - `Ctrl+W`: Where Is\n",
    "    - `Ctrl+V`: Next Page\n",
    "    - `Ctrl+U`: UnCut Text\n",
    "    - `Ctrl+T`: To Spell\n",
    "- ```mv <filename> <directory>```: to move a file\n",
    "    - ```mv <filename> .```: to move a file to current directory\n",
    "    - ```mv <filename> ..```: to move a file to parent directory\n",
    "    - ```mv <filename> <filename>```: to rename a file\n",
    "    [Note: Be cautious using mv, as it may overwrite any existing file silently with the same name. By default, it will not ask for confirmation.]\n",
    "    - `mv -i`: mv --interactive will cause mv to request a confirmation.\n",
    "- ```cp <filename> <directory>```: to copy and paste\n",
    "    - `cp-r <directory> <directory>`: to move a directory and all its content [important to specify -r]\n",
    "- ```-r```: for recursive (basically, it applies to all the files in that folder)\n",
    "- ```rm <filename>```: to remove any files\n",
    "    [Note: The Unix shell doesn’t have a trash bin that we can recover deleted files from (though most graphical interfaces to Unix do). Instead, when we delete files, they are unlinked from the file system so that their storage space on disk can be recycled. Tools for finding and recovering deleted files do exist, but there’s no guarantee they’ll work in any particular situation, since the computer may recycle the file’s disk space right away.]\n",
    "    - `rm -i` it askes for confirmation before deleting Y or N\n",
    "    - `rm -r <directory>`: to delete a directory and all its content.\n",
    "- ```unlink <filename>```: to remove something (however, it does not support multiple files removal)\n",
    "\n",
    "- `man <command>`: to list all the comments related to that command.\n",
    "    - `/` to search\n",
    "    - `n` and `Shift+n` to navigate\n",
    "    - `q` to quit\n",
    "- `apropos <keyword>`: to look for manual pages and description\n",
    "- `*` zero or more of any character (a wildcard)\n",
    "    - `ls 2025*` lists all files starting with 2025\n",
    "    - `ls *.jpg` lists all files ending with .jpg\n",
    "    - `ls *07*` lists all files having 07 in the filename\n",
    "- `?` is also a wildcard, but represents only one character. IT can be use in combination like `???` for exactly three characters.\n",
    "- `grep '<string>' <text file>`: to search the lines where the string has occured.\n",
    "- `egrep`: extended grep command\n",
    "- `sort <filename>`: to sort\n",
    "    - `sort -n <filename>`: to sort in increasing order, numerically\n",
    "    [Note: Redirecting to the same file is not recommended as it gives incorrect results and/or delete the contents of the file]\n",
    "    - `sort -r`: reverse the result of sorting\n",
    "- `|`: pipe. It is used to run the right commands on the output of left commands. We can use multiple pipes at a line.\n",
    "- `cut`: to remove certain sections of each line.\n",
    "    - `cut -d`: for delimiters\n",
    "- `-f 2`: to view 2nd field\n",
    "- `uniq`: to report/omit repeative lines\n",
    "    - `uniq -c`: tell us how many times the lines are repeated in a consecutive manner\n",
    "\n",
    "[Delimiters: characters or sequences that seperate vlaues in text.\n",
    "\n",
    "Fields: spaces in text after getting splitted.\n",
    "\n",
    "Record: the entire line containing multiple fields.\n",
    "\n",
    "Types: ' ', '   ', ',', ':', ';', '|']\n",
    "\n",
    "## Loop\n",
    "\n",
    "- `for`: The word \"for\" indicates the start of a \"For-loop\" command\n",
    "    - `do`: The word \"do\" indicates the start of job execution list\n",
    "    - `done`: The word \"done\" indicates the end of a loop\n",
    "    - `$<variable>`: just like i in python for loops. `{<text>}` is used to clearly delimit the variable name. [Note: Always give a sensible, readable, understandable name]\n",
    "    - `>`: indicates we haven't finished writing the for loop\n",
    "    - `;`: sepeartes two commands written on a single line\n",
    "    - use \" \" if there is space in filename\n",
    "- `Ctrl + A`: to come to beginning of a line in the shell\n",
    "- `Ctrl + E`: to come to end of a line in the shell\n",
    "- `history`: to view history of earler commands\n",
    "- `!<number>`: to rerun the command from the history of that number\n",
    "- `Ctrl + R`: to find most recent matching command\n",
    "\n",
    "## Shell\n",
    "- Shell: a bunch of commands saved as a file. a small program\n",
    "- `bash <shell file>`: to run the commands in a shell script file\n",
    "- `\"$<n>\"` inside a shell script file, it means the next nth argument\n",
    "- `#`: to add comments just like in python\n",
    "- `\"$@\"`: for all the arguments\n",
    "\n",
    "## Finding things\n",
    "- `grep <characters> <filename>`: to search through the file, and look for matching patterns [case sensitive]\n",
    "    - `grep -w`: for words \n",
    "    - `grep -w \"<words>\"`: for group of words\n",
    "    - `grep -n <characters> <filename>`: to numbers the lines that match\n",
    "    - `grep -i`: case-insensitive\n",
    "    - `grep -v`: to inverse the search\n",
    "    - `grep -r`: for recursive search throughout a set pf files\n",
    "    - `grep -E`: extensive search\n",
    "        - `^`: to the start of the line\n",
    "        - `.`: single character\n",
    "\n",
    "**THE SOFTWARE CARPENTARY COURSE FOR UNIX IS COMPLETED**"
   ]
  },
  {
   "cell_type": "markdown",
   "metadata": {},
   "source": [
    "| Metacharacter | Meaning                                      |\n",
    "|----------------|---------------------------------------------|\n",
    "| .              | Any Character                               |\n",
    "| \\w             | A Word                                      |\n",
    "| \\W             | Not a Word                                  |\n",
    "| \\d             | A Digit                                     |\n",
    "| \\D             | Not a Digit                                 |\n",
    "| \\s             | Whitespace                                  |\n",
    "| \\S             | Not Whitespace                              |\n",
    "| [def]          | A Set of Characters                         |\n",
    "| [^def]         | Negation of Set                             |\n",
    "| [e-q]          | A Range of Characters                       |\n",
    "| ^              | Beginning of String                         |\n",
    "| $              | End of String                               |\n",
    "| \\n             | Newline                                     |\n",
    "| +              | One or More of Previous                     |\n",
    "| *              | Zero or More of Previous                    |\n",
    "| ?              | Zero or One of Previous                     |\n",
    "| \\|             | Either the Previous or the Following        |\n",
    "| {6}            | Exactly 6 of Previous                       |\n",
    "| {4,6}          | Between 4 and 6 of Previous                  |\n",
    "| {4,}           | 4 or more of Previous                       |"
   ]
  },
  {
   "cell_type": "markdown",
   "metadata": {},
   "source": [
    "**THE UNIX WORKBENCH IS COMPLETED**"
   ]
  },
  {
   "cell_type": "markdown",
   "metadata": {},
   "source": [
    "`THANK YOU`"
   ]
  }
 ],
 "metadata": {
  "celltoolbar": "Slideshow",
  "kernelspec": {
   "display_name": "base",
   "language": "python",
   "name": "python3"
  },
  "language_info": {
   "codemirror_mode": {
    "name": "ipython",
    "version": 3
   },
   "file_extension": ".py",
   "mimetype": "text/x-python",
   "name": "python",
   "nbconvert_exporter": "python",
   "pygments_lexer": "ipython3",
   "version": "3.12.3"
  }
 },
 "nbformat": 4,
 "nbformat_minor": 4
}
